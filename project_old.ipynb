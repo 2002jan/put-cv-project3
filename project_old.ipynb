{
 "cells": [
  {
   "cell_type": "code",
   "execution_count": 10,
   "id": "e835b2a6196f755c",
   "metadata": {
    "ExecuteTime": {
     "end_time": "2024-01-22T19:03:30.916074100Z",
     "start_time": "2024-01-22T19:03:30.913496300Z"
    },
    "collapsed": false
   },
   "outputs": [],
   "source": [
    "import os\n",
    "\n",
    "import tensorflow as tf\n",
    "from tensorflow import keras\n",
    "from keras import layers, models\n",
    "from tensorflow.python.data.ops.dataset_ops import AUTOTUNE"
   ]
  },
  {
   "cell_type": "code",
   "execution_count": 11,
   "id": "9ead90b64a6a41f4",
   "metadata": {
    "ExecuteTime": {
     "end_time": "2024-01-22T19:03:32.044786300Z",
     "start_time": "2024-01-22T19:03:32.033600200Z"
    },
    "collapsed": false
   },
   "outputs": [],
   "source": [
    "WORKING_DIR = \"data\""
   ]
  },
  {
   "cell_type": "code",
   "execution_count": 12,
   "id": "initial_id",
   "metadata": {
    "ExecuteTime": {
     "end_time": "2024-01-22T19:03:32.612038600Z",
     "start_time": "2024-01-22T19:03:32.584069700Z"
    },
    "collapsed": true
   },
   "outputs": [
    {
     "name": "stdout",
     "output_type": "stream",
     "text": [
      "[]\n"
     ]
    }
   ],
   "source": [
    "physical_devices = tf.config.list_physical_devices('GPU')\n",
    "print(physical_devices)\n",
    "for gpu in physical_devices:\n",
    "    tf.config.experimental.set_memory_growth(gpu, enable=True)"
   ]
  },
  {
   "cell_type": "code",
   "execution_count": 13,
   "id": "42caac0753ba73c",
   "metadata": {
    "ExecuteTime": {
     "end_time": "2024-01-22T19:03:33.783092200Z",
     "start_time": "2024-01-22T19:03:33.676653200Z"
    },
    "collapsed": false
   },
   "outputs": [],
   "source": [
    "images = os.listdir(WORKING_DIR)\n",
    "train_images = images[:1000]"
   ]
  },
  {
   "cell_type": "code",
   "execution_count": 14,
   "id": "a1f1cb1d64fb64e7",
   "metadata": {
    "ExecuteTime": {
     "end_time": "2024-01-22T19:04:20.347939400Z",
     "start_time": "2024-01-22T19:04:19.859374200Z"
    },
    "collapsed": false
   },
   "outputs": [
    {
     "name": "stdout",
     "output_type": "stream",
     "text": [
      "(500, 500, 3)\n"
     ]
    }
   ],
   "source": [
    "img_size = (300, 300)\n",
    "sample_img = tf.io.read_file(f\"{WORKING_DIR}/{images[0]}\")\n",
    "sample_img = tf.io.decode_png(sample_img)\n",
    "print(sample_img.shape)"
   ]
  },
  {
   "cell_type": "code",
   "execution_count": 15,
   "id": "ac014e575942db3a",
   "metadata": {
    "ExecuteTime": {
     "start_time": "2024-01-22T18:49:39.361803900Z"
    },
    "collapsed": false
   },
   "outputs": [
    {
     "ename": "NameError",
     "evalue": "name 'dataset' is not defined",
     "output_type": "error",
     "traceback": [
      "\u001b[1;31m---------------------------------------------------------------------------\u001b[0m",
      "\u001b[1;31mNameError\u001b[0m                                 Traceback (most recent call last)",
      "Cell \u001b[1;32mIn [15], line 1\u001b[0m\n\u001b[1;32m----> 1\u001b[0m dataset \u001b[38;5;241m=\u001b[39m dataset\u001b[38;5;241m.\u001b[39mprefetch(buffer_size\u001b[38;5;241m=\u001b[39mAUTOTUNE)\n",
      "\u001b[1;31mNameError\u001b[0m: name 'dataset' is not defined"
     ]
    }
   ],
   "source": [
    "dataset = dataset.prefetch(buffer_size=AUTOTUNE)"
   ]
  }
 ],
 "metadata": {
  "kernelspec": {
   "display_name": "Python 3",
   "language": "python",
   "name": "python3"
  },
  "language_info": {
   "codemirror_mode": {
    "name": "ipython",
    "version": 2
   },
   "file_extension": ".py",
   "mimetype": "text/x-python",
   "name": "python",
   "nbconvert_exporter": "python",
   "pygments_lexer": "ipython2",
   "version": "3.10.2"
  }
 },
 "nbformat": 4,
 "nbformat_minor": 5
}
