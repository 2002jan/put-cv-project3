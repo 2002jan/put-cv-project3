{
 "cells": [
  {
   "cell_type": "code",
   "outputs": [],
   "source": [
    "import os\n",
    "\n",
    "import tensorflow as tf\n",
    "from tensorflow import keras\n",
    "from keras import layers, models\n",
    "from tensorflow.python.data.ops.dataset_ops import AUTOTUNE"
   ],
   "metadata": {
    "collapsed": false,
    "ExecuteTime": {
     "end_time": "2024-01-22T19:03:30.916074100Z",
     "start_time": "2024-01-22T19:03:30.913496300Z"
    }
   },
   "id": "e835b2a6196f755c",
   "execution_count": 9
  },
  {
   "cell_type": "code",
   "outputs": [],
   "source": [
    "WORKING_DIR = \"/mnt/c/Users/2002j/Desktop/pliki/Uni/sem5/CV/project3/data\""
   ],
   "metadata": {
    "collapsed": false,
    "ExecuteTime": {
     "end_time": "2024-01-22T19:03:32.044786300Z",
     "start_time": "2024-01-22T19:03:32.033600200Z"
    }
   },
   "id": "9ead90b64a6a41f4",
   "execution_count": 10
  },
  {
   "cell_type": "code",
   "execution_count": 11,
   "id": "initial_id",
   "metadata": {
    "collapsed": true,
    "ExecuteTime": {
     "end_time": "2024-01-22T19:03:32.612038600Z",
     "start_time": "2024-01-22T19:03:32.584069700Z"
    }
   },
   "outputs": [
    {
     "name": "stdout",
     "output_type": "stream",
     "text": [
      "[PhysicalDevice(name='/physical_device:GPU:0', device_type='GPU')]\n"
     ]
    }
   ],
   "source": [
    "physical_devices = tf.config.list_physical_devices('GPU')\n",
    "print(physical_devices)\n",
    "for gpu in physical_devices:\n",
    "    tf.config.experimental.set_memory_growth(gpu, enable=True)"
   ]
  },
  {
   "cell_type": "code",
   "outputs": [],
   "source": [
    "images = os.listdir(WORKING_DIR)\n",
    "train_images = images[:1000]"
   ],
   "metadata": {
    "collapsed": false,
    "ExecuteTime": {
     "end_time": "2024-01-22T19:03:33.783092200Z",
     "start_time": "2024-01-22T19:03:33.676653200Z"
    }
   },
   "id": "42caac0753ba73c",
   "execution_count": 12
  },
  {
   "cell_type": "code",
   "outputs": [
    {
     "name": "stdout",
     "output_type": "stream",
     "text": [
      "(500, 500, 3)\n"
     ]
    }
   ],
   "source": [
    "img_size = (300, 300)\n",
    "sample_img = tf.io.read_file(f\"{WORKING_DIR}/{images[0]}\")\n",
    "sample_img = tf.io.decode_png(sample_img)\n",
    "print(sample_img.shape)"
   ],
   "metadata": {
    "collapsed": false,
    "ExecuteTime": {
     "end_time": "2024-01-22T19:04:20.347939400Z",
     "start_time": "2024-01-22T19:04:19.859374200Z"
    }
   },
   "id": "a1f1cb1d64fb64e7",
   "execution_count": 13
  },
  {
   "cell_type": "code",
   "outputs": [],
   "source": [
    "dataset = dataset.prefetch(buffer_size=AUTOTUNE)"
   ],
   "metadata": {
    "collapsed": false,
    "ExecuteTime": {
     "start_time": "2024-01-22T18:49:39.361803900Z"
    }
   },
   "id": "ac014e575942db3a"
  }
 ],
 "metadata": {
  "kernelspec": {
   "display_name": "Python 3",
   "language": "python",
   "name": "python3"
  },
  "language_info": {
   "codemirror_mode": {
    "name": "ipython",
    "version": 2
   },
   "file_extension": ".py",
   "mimetype": "text/x-python",
   "name": "python",
   "nbconvert_exporter": "python",
   "pygments_lexer": "ipython2",
   "version": "2.7.6"
  }
 },
 "nbformat": 4,
 "nbformat_minor": 5
}
